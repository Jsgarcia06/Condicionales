{
 "cells": [
  {
   "cell_type": "code",
   "execution_count": 2,
   "metadata": {},
   "outputs": [
    {
     "name": "stdout",
     "output_type": "stream",
     "text": [
      "Contraseña Correcta\n"
     ]
    }
   ],
   "source": [
    "Contraseña=\"Computadora\"\n",
    "Contador=0\n",
    "\n",
    "while True:\n",
    "    contraseña_input=input(\"Introduzca una Contraseña\")\n",
    "    Contador +=1\n",
    "    \n",
    "    if Contador >3:\n",
    "        print(\"Haz sobrepasado los intentos\")\n",
    "        \n",
    "    elif contraseña_input == \"Computadora\":\n",
    "        print (\"Contraseña Correcta\")\n",
    "        break\n",
    "    \n",
    "else:\n",
    "    print(\"Contraseña incorrecta, Introduzca una contraseña correcta\")"
   ]
  }
 ],
 "metadata": {
  "kernelspec": {
   "display_name": "Python 3",
   "language": "python",
   "name": "python3"
  },
  "language_info": {
   "codemirror_mode": {
    "name": "ipython",
    "version": 3
   },
   "file_extension": ".py",
   "mimetype": "text/x-python",
   "name": "python",
   "nbconvert_exporter": "python",
   "pygments_lexer": "ipython3",
   "version": "3.11.2"
  }
 },
 "nbformat": 4,
 "nbformat_minor": 2
}
